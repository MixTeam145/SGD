{
 "cells": [
  {
   "cell_type": "code",
   "execution_count": 1,
   "metadata": {},
   "outputs": [],
   "source": [
    "# Подключаем необходимые модули\n",
    "import family, sgd\n",
    "\n",
    "import numpy as np\n",
    "import statsmodels.api as sm\n",
    "import matplotlib.pyplot as plt\n",
    "import pandas as pd\n",
    "import seaborn as sns\n",
    "\n",
    "\n",
    "seed_params = 123\n",
    "seed_regressors = 10\n",
    "seed_response = 4\n",
    "seed_sgd = 1"
   ]
  },
  {
   "cell_type": "code",
   "execution_count": 2,
   "metadata": {},
   "outputs": [],
   "source": [
    "def adj_r2(y, y_pred, n_params):\n",
    "    n = len(y)\n",
    "    error = y - y_pred\n",
    "    r2 = 1 - np.sum(error**2) / np.sum((y - np.mean(y)) ** 2)\n",
    "    return 1 - (1 - r2) * (n - 1) / (n - n_params - 1)\n",
    "\n",
    "def pseudo_r2(y, y_pred, family: family.Family):\n",
    "    d_fitted = family.deviance(y, y_pred) \n",
    "    d_null = family.deviance(y, np.mean(y))\n",
    "    return 1 - d_fitted / d_null"
   ]
  },
  {
   "cell_type": "markdown",
   "metadata": {},
   "source": [
    "## Проверка на сгенерированных данных\n"
   ]
  },
  {
   "cell_type": "markdown",
   "metadata": {},
   "source": [
    "Пусть количество индивидов равно $n=1000$, количество признаков равно $p=10$ (без учета константы).\n"
   ]
  },
  {
   "cell_type": "code",
   "execution_count": 3,
   "metadata": {},
   "outputs": [],
   "source": [
    "n, p = 1000, 10"
   ]
  },
  {
   "cell_type": "code",
   "execution_count": 4,
   "metadata": {},
   "outputs": [
    {
     "name": "stdout",
     "output_type": "stream",
     "text": [
      "[ 3.92938371 -4.2772133  -5.46297093  1.02629538  4.3893794  -1.5378708\n",
      "  9.61528397  3.69659477 -0.38136197 -2.15764964 -3.13643968]\n"
     ]
    }
   ],
   "source": [
    "# Генерация параметров\n",
    "np.random.seed(seed_params)\n",
    "params = np.random.uniform(-10, 10, p + 1)\n",
    "print(params)"
   ]
  },
  {
   "cell_type": "code",
   "execution_count": 5,
   "metadata": {},
   "outputs": [],
   "source": [
    "# Генерация регрессоров\n",
    "np.random.seed(seed_regressors)\n",
    "X = np.random.rand(n, p)\n",
    "# Константный член\n",
    "X = sm.add_constant(X)\n",
    "column_names = np.append(\"intercept\", [f\"x{i}\" for i in range(1, p + 1)])"
   ]
  },
  {
   "cell_type": "markdown",
   "metadata": {},
   "source": [
    "### 1. Линейная регрессия (Gaussian GLM)\n"
   ]
  },
  {
   "cell_type": "markdown",
   "metadata": {},
   "source": [
    "Модель: зависимая переменная $\\mathbf{y}$ распределена нормально и $$\\mathsf E(\\mathbf{y}~|~\\mathbf{X})=\\boldsymbol\\mu=\\mathbf{X}\\boldsymbol\\beta,$$ где $\\mathbf{X}$ — матрица данных, $\\boldsymbol\\beta$ — вектор параметров. Плотность нормального распределения: $$p(y; \\mu, \\sigma^2)=\\frac1{\\sqrt{2\\pi\\sigma^2}}\\exp\\left\\{-\\frac{(x-\\mu)^2}{2\\sigma^2}\\right\\},\\quad y\\in \\mathbb{R},\\quad \\mu\\in\\mathbb{R},\\,\\sigma>0.$$"
   ]
  },
  {
   "cell_type": "code",
   "execution_count": 6,
   "metadata": {},
   "outputs": [],
   "source": [
    "# Параметры нормального распределения\n",
    "mu = X.dot(params)\n",
    "sigma = 0.1"
   ]
  },
  {
   "cell_type": "code",
   "execution_count": 7,
   "metadata": {},
   "outputs": [],
   "source": [
    "# Генерация отклика\n",
    "np.random.seed(seed_response)\n",
    "y1 = mu + np.random.normal(0, sigma, n)"
   ]
  },
  {
   "cell_type": "code",
   "execution_count": 8,
   "metadata": {},
   "outputs": [],
   "source": [
    "np.random.seed(seed_sgd)\n",
    "model1 = sgd.SGD(family=family.Gaussian(), lr=0.03, batch_size=16)\n",
    "model1_pred = model1.fit(X, y1).predict(X)"
   ]
  },
  {
   "cell_type": "code",
   "execution_count": 9,
   "metadata": {},
   "outputs": [
    {
     "name": "stdout",
     "output_type": "stream",
     "text": [
      "           Estimated      True\n",
      "intercept   3.935208  3.929384\n",
      "x1         -4.254903 -4.277213\n",
      "x2         -5.470059 -5.462971\n",
      "x3          1.028168  1.026295\n",
      "x4          4.379706  4.389379\n",
      "x5         -1.544207 -1.537871\n",
      "x6          9.620079  9.615284\n",
      "x7          3.711597  3.696595\n",
      "x8         -0.383994 -0.381362\n",
      "x9         -2.180469 -2.157650\n",
      "x10        -3.131106 -3.136440\n",
      "Epochs passed: 69\n",
      "Dispersion (scale) parameter: 0.008969032084244847\n",
      "Adjusted R-squared: 0.9994550236678179\n"
     ]
    }
   ],
   "source": [
    "result1 = pd.DataFrame(index=column_names)\n",
    "result1[\"Estimated\"] = model1.params\n",
    "result1[\"True\"] = params\n",
    "print(\n",
    "    result1,\n",
    "    f\"Epochs passed: {model1.n_iter}\",\n",
    "    f\"Dispersion (scale) parameter: {model1.dispersion}\",\n",
    "    f\"Adjusted R-squared: {adj_r2(y1, model1_pred, p)}\",\n",
    "    sep=\"\\n\",\n",
    ")"
   ]
  },
  {
   "cell_type": "code",
   "execution_count": 10,
   "metadata": {},
   "outputs": [
    {
     "data": {
      "image/png": "[encoded data removed]",
      "text/plain": [
       "<Figure size 640x480 with 1 Axes>"
      ]
     },
     "metadata": {},
     "output_type": "display_data"
    }
   ],
   "source": [
    "# График функции потерь\n",
    "plt.plot(model1.loss_history)\n",
    "plt.xlabel(\"epoch\"), plt.ylabel(\"Loss\")\n",
    "plt.show()"
   ]
  },
  {
   "cell_type": "markdown",
   "metadata": {},
   "source": [
    "### 2. Гамма-регрессия (Gamma GLM)"
   ]
  },
  {
   "cell_type": "markdown",
   "metadata": {},
   "source": [
    "Модель: зависимая переменная $\\mathbf{y}$ имеет гамма-распределение и $$\\mathsf E(\\mathbf{y}~|~\\mathbf{X})=\\boldsymbol\\mu=e^{\\mathbf{X}\\boldsymbol\\beta}.$$ Плотность гамма-распределения: $$p(y; k, \\theta) = \\frac{y^{k-1}}{\\Gamma(k)\\theta^k}\\exp\\left\\{-\\frac{y}{\\theta}\\right\\},\\quad y > 0,\\quad k, \\theta > 0.$$"
   ]
  },
  {
   "cell_type": "code",
   "execution_count": 11,
   "metadata": {},
   "outputs": [],
   "source": [
    "# Параметры гамма-распределения\n",
    "k = 10\n",
    "mu = np.exp(X.dot(params))\n",
    "theta = mu / k"
   ]
  },
  {
   "cell_type": "code",
   "execution_count": 12,
   "metadata": {},
   "outputs": [],
   "source": [
    "# Генерация отклика\n",
    "np.random.seed(seed_response)\n",
    "y2 = np.random.gamma(k, theta, n)"
   ]
  },
  {
   "cell_type": "code",
   "execution_count": 13,
   "metadata": {},
   "outputs": [],
   "source": [
    "np.random.seed(seed_sgd)\n",
    "model2 = sgd.SGD(family=family.Gamma(), lr=0.03, batch_size=16)\n",
    "model2_pred = model2.fit(X, y2).predict(X)"
   ]
  },
  {
   "cell_type": "code",
   "execution_count": 14,
   "metadata": {},
   "outputs": [
    {
     "name": "stdout",
     "output_type": "stream",
     "text": [
      "           Estimated      True\n",
      "intercept   3.941278  3.929384\n",
      "x1         -4.263230 -4.277213\n",
      "x2         -5.452918 -5.462971\n",
      "x3          1.000984  1.026295\n",
      "x4          4.324310  4.389379\n",
      "x5         -1.535370 -1.537871\n",
      "x6          9.645510  9.615284\n",
      "x7          3.712122  3.696595\n",
      "x8         -0.379930 -0.381362\n",
      "x9         -2.164776 -2.157650\n",
      "x10        -3.133490 -3.136440\n",
      "Epochs passed: 82\n",
      "Dispersion (scale) parameter: 0.09237087034754578\n",
      "Pseudo R-squared: 0.9922403973070514\n"
     ]
    }
   ],
   "source": [
    "result2 = pd.DataFrame(index=column_names)\n",
    "result2[\"Estimated\"] = model2.params\n",
    "result2[\"True\"] = params\n",
    "print(\n",
    "    result2,\n",
    "    f\"Epochs passed: {model2.n_iter}\",\n",
    "    f\"Dispersion (scale) parameter: {model2.dispersion}\",\n",
    "    f\"Pseudo R-squared: {pseudo_r2(y2, model2_pred, family.Gamma())}\",\n",
    "    sep=\"\\n\",\n",
    ")"
   ]
  },
  {
   "cell_type": "code",
   "execution_count": 15,
   "metadata": {},
   "outputs": [
    {
     "data": {
      "image/png": "[encoded data removed]",
      "text/plain": [
       "<Figure size 640x480 with 1 Axes>"
      ]
     },
     "metadata": {},
     "output_type": "display_data"
    }
   ],
   "source": [
    "plt.plot(model2.loss_history)\n",
    "plt.xlabel(\"epoch\"), plt.ylabel(\"Loss\")\n",
    "plt.show()"
   ]
  },
  {
   "cell_type": "markdown",
   "metadata": {},
   "source": [
    "## Реальные данные\n"
   ]
  },
  {
   "cell_type": "code",
   "execution_count": 16,
   "metadata": {},
   "outputs": [
    {
     "data": {
      "text/html": [
       "<div>\n",
       "<style scoped>\n",
       "    .dataframe tbody tr th:only-of-type {\n",
       "        vertical-align: middle;\n",
       "    }\n",
       "\n",
       "    .dataframe tbody tr th {\n",
       "        vertical-align: top;\n",
       "    }\n",
       "\n",
       "    .dataframe thead th {\n",
       "        text-align: right;\n",
       "    }\n",
       "</style>\n",
       "<table border=\"1\" class=\"dataframe\">\n",
       "  <thead>\n",
       "    <tr style=\"text-align: right;\">\n",
       "      <th></th>\n",
       "      <th>No</th>\n",
       "      <th>X1 transaction date</th>\n",
       "      <th>X2 house age</th>\n",
       "      <th>X3 distance to the nearest MRT station</th>\n",
       "      <th>X4 number of convenience stores</th>\n",
       "      <th>X5 latitude</th>\n",
       "      <th>X6 longitude</th>\n",
       "      <th>Y house price of unit area</th>\n",
       "    </tr>\n",
       "  </thead>\n",
       "  <tbody>\n",
       "    <tr>\n",
       "      <th>0</th>\n",
       "      <td>1</td>\n",
       "      <td>2012.917</td>\n",
       "      <td>32.0</td>\n",
       "      <td>84.87882</td>\n",
       "      <td>10</td>\n",
       "      <td>24.98298</td>\n",
       "      <td>121.54024</td>\n",
       "      <td>37.9</td>\n",
       "    </tr>\n",
       "    <tr>\n",
       "      <th>1</th>\n",
       "      <td>2</td>\n",
       "      <td>2012.917</td>\n",
       "      <td>19.5</td>\n",
       "      <td>306.59470</td>\n",
       "      <td>9</td>\n",
       "      <td>24.98034</td>\n",
       "      <td>121.53951</td>\n",
       "      <td>42.2</td>\n",
       "    </tr>\n",
       "    <tr>\n",
       "      <th>2</th>\n",
       "      <td>3</td>\n",
       "      <td>2013.583</td>\n",
       "      <td>13.3</td>\n",
       "      <td>561.98450</td>\n",
       "      <td>5</td>\n",
       "      <td>24.98746</td>\n",
       "      <td>121.54391</td>\n",
       "      <td>47.3</td>\n",
       "    </tr>\n",
       "    <tr>\n",
       "      <th>3</th>\n",
       "      <td>4</td>\n",
       "      <td>2013.500</td>\n",
       "      <td>13.3</td>\n",
       "      <td>561.98450</td>\n",
       "      <td>5</td>\n",
       "      <td>24.98746</td>\n",
       "      <td>121.54391</td>\n",
       "      <td>54.8</td>\n",
       "    </tr>\n",
       "    <tr>\n",
       "      <th>4</th>\n",
       "      <td>5</td>\n",
       "      <td>2012.833</td>\n",
       "      <td>5.0</td>\n",
       "      <td>390.56840</td>\n",
       "      <td>5</td>\n",
       "      <td>24.97937</td>\n",
       "      <td>121.54245</td>\n",
       "      <td>43.1</td>\n",
       "    </tr>\n",
       "  </tbody>\n",
       "</table>\n",
       "</div>"
      ],
      "text/plain": [
       "   No  X1 transaction date  X2 house age  \\\n",
       "0   1             2012.917          32.0   \n",
       "1   2             2012.917          19.5   \n",
       "2   3             2013.583          13.3   \n",
       "3   4             2013.500          13.3   \n",
       "4   5             2012.833           5.0   \n",
       "\n",
       "   X3 distance to the nearest MRT station  X4 number of convenience stores  \\\n",
       "0                                84.87882                               10   \n",
       "1                               306.59470                                9   \n",
       "2                               561.98450                                5   \n",
       "3                               561.98450                                5   \n",
       "4                               390.56840                                5   \n",
       "\n",
       "   X5 latitude  X6 longitude  Y house price of unit area  \n",
       "0     24.98298     121.54024                        37.9  \n",
       "1     24.98034     121.53951                        42.2  \n",
       "2     24.98746     121.54391                        47.3  \n",
       "3     24.98746     121.54391                        54.8  \n",
       "4     24.97937     121.54245                        43.1  "
      ]
     },
     "execution_count": 16,
     "metadata": {},
     "output_type": "execute_result"
    }
   ],
   "source": [
    "# Загрузка данных\n",
    "df = pd.read_csv(\"data/Real estate.csv\", sep=\",\")\n",
    "df.head()"
   ]
  },
  {
   "cell_type": "code",
   "execution_count": 17,
   "metadata": {},
   "outputs": [
    {
     "data": {
      "text/html": [
       "<div>\n",
       "<style scoped>\n",
       "    .dataframe tbody tr th:only-of-type {\n",
       "        vertical-align: middle;\n",
       "    }\n",
       "\n",
       "    .dataframe tbody tr th {\n",
       "        vertical-align: top;\n",
       "    }\n",
       "\n",
       "    .dataframe thead th {\n",
       "        text-align: right;\n",
       "    }\n",
       "</style>\n",
       "<table border=\"1\" class=\"dataframe\">\n",
       "  <thead>\n",
       "    <tr style=\"text-align: right;\">\n",
       "      <th></th>\n",
       "      <th>transact_date</th>\n",
       "      <th>house_age</th>\n",
       "      <th>distance_nearest</th>\n",
       "      <th>n_stores</th>\n",
       "      <th>lat</th>\n",
       "      <th>lon</th>\n",
       "      <th>price</th>\n",
       "    </tr>\n",
       "  </thead>\n",
       "  <tbody>\n",
       "    <tr>\n",
       "      <th>0</th>\n",
       "      <td>2012.917</td>\n",
       "      <td>32.0</td>\n",
       "      <td>84.87882</td>\n",
       "      <td>10</td>\n",
       "      <td>24.98298</td>\n",
       "      <td>121.54024</td>\n",
       "      <td>37.9</td>\n",
       "    </tr>\n",
       "    <tr>\n",
       "      <th>1</th>\n",
       "      <td>2012.917</td>\n",
       "      <td>19.5</td>\n",
       "      <td>306.59470</td>\n",
       "      <td>9</td>\n",
       "      <td>24.98034</td>\n",
       "      <td>121.53951</td>\n",
       "      <td>42.2</td>\n",
       "    </tr>\n",
       "    <tr>\n",
       "      <th>2</th>\n",
       "      <td>2013.583</td>\n",
       "      <td>13.3</td>\n",
       "      <td>561.98450</td>\n",
       "      <td>5</td>\n",
       "      <td>24.98746</td>\n",
       "      <td>121.54391</td>\n",
       "      <td>47.3</td>\n",
       "    </tr>\n",
       "    <tr>\n",
       "      <th>3</th>\n",
       "      <td>2013.500</td>\n",
       "      <td>13.3</td>\n",
       "      <td>561.98450</td>\n",
       "      <td>5</td>\n",
       "      <td>24.98746</td>\n",
       "      <td>121.54391</td>\n",
       "      <td>54.8</td>\n",
       "    </tr>\n",
       "    <tr>\n",
       "      <th>4</th>\n",
       "      <td>2012.833</td>\n",
       "      <td>5.0</td>\n",
       "      <td>390.56840</td>\n",
       "      <td>5</td>\n",
       "      <td>24.97937</td>\n",
       "      <td>121.54245</td>\n",
       "      <td>43.1</td>\n",
       "    </tr>\n",
       "  </tbody>\n",
       "</table>\n",
       "</div>"
      ],
      "text/plain": [
       "   transact_date  house_age  distance_nearest  n_stores       lat        lon  \\\n",
       "0       2012.917       32.0          84.87882        10  24.98298  121.54024   \n",
       "1       2012.917       19.5         306.59470         9  24.98034  121.53951   \n",
       "2       2013.583       13.3         561.98450         5  24.98746  121.54391   \n",
       "3       2013.500       13.3         561.98450         5  24.98746  121.54391   \n",
       "4       2012.833        5.0         390.56840         5  24.97937  121.54245   \n",
       "\n",
       "   price  \n",
       "0   37.9  \n",
       "1   42.2  \n",
       "2   47.3  \n",
       "3   54.8  \n",
       "4   43.1  "
      ]
     },
     "execution_count": 17,
     "metadata": {},
     "output_type": "execute_result"
    }
   ],
   "source": [
    "# Переименуем столбцы и выкинем столбец \"No\"\n",
    "df.rename(\n",
    "    columns={\n",
    "        \"X1 transaction date\": \"transact_date\",\n",
    "        \"X2 house age\": \"house_age\",\n",
    "        \"X3 distance to the nearest MRT station\": \"distance_nearest\",\n",
    "        \"X4 number of convenience stores\": \"n_stores\",\n",
    "        \"X5 latitude\": \"lat\",\n",
    "        \"X6 longitude\": \"lon\",\n",
    "        \"Y house price of unit area\": \"price\",\n",
    "    },\n",
    "    inplace=True,\n",
    ")\n",
    "df.drop(\"No\", axis=1, inplace=True)\n",
    "df.head(5)"
   ]
  },
  {
   "cell_type": "code",
   "execution_count": 18,
   "metadata": {},
   "outputs": [
    {
     "data": {
      "text/plain": [
       "(414, 7)"
      ]
     },
     "execution_count": 18,
     "metadata": {},
     "output_type": "execute_result"
    }
   ],
   "source": [
    "# Размеры датасета\n",
    "df.shape"
   ]
  },
  {
   "cell_type": "code",
   "execution_count": 19,
   "metadata": {},
   "outputs": [
    {
     "data": {
      "text/html": [
       "<div>\n",
       "<style scoped>\n",
       "    .dataframe tbody tr th:only-of-type {\n",
       "        vertical-align: middle;\n",
       "    }\n",
       "\n",
       "    .dataframe tbody tr th {\n",
       "        vertical-align: top;\n",
       "    }\n",
       "\n",
       "    .dataframe thead th {\n",
       "        text-align: right;\n",
       "    }\n",
       "</style>\n",
       "<table border=\"1\" class=\"dataframe\">\n",
       "  <thead>\n",
       "    <tr style=\"text-align: right;\">\n",
       "      <th></th>\n",
       "      <th>transact_date</th>\n",
       "      <th>house_age</th>\n",
       "      <th>distance_nearest</th>\n",
       "      <th>n_stores</th>\n",
       "      <th>lat</th>\n",
       "      <th>lon</th>\n",
       "      <th>price</th>\n",
       "    </tr>\n",
       "  </thead>\n",
       "  <tbody>\n",
       "    <tr>\n",
       "      <th>count</th>\n",
       "      <td>414.000000</td>\n",
       "      <td>414.000000</td>\n",
       "      <td>414.000000</td>\n",
       "      <td>414.000000</td>\n",
       "      <td>414.000000</td>\n",
       "      <td>414.000000</td>\n",
       "      <td>414.000000</td>\n",
       "    </tr>\n",
       "    <tr>\n",
       "      <th>mean</th>\n",
       "      <td>2013.148971</td>\n",
       "      <td>17.712560</td>\n",
       "      <td>1083.885689</td>\n",
       "      <td>4.094203</td>\n",
       "      <td>24.969030</td>\n",
       "      <td>121.533361</td>\n",
       "      <td>37.980193</td>\n",
       "    </tr>\n",
       "    <tr>\n",
       "      <th>std</th>\n",
       "      <td>0.281967</td>\n",
       "      <td>11.392485</td>\n",
       "      <td>1262.109595</td>\n",
       "      <td>2.945562</td>\n",
       "      <td>0.012410</td>\n",
       "      <td>0.015347</td>\n",
       "      <td>13.606488</td>\n",
       "    </tr>\n",
       "    <tr>\n",
       "      <th>min</th>\n",
       "      <td>2012.667000</td>\n",
       "      <td>0.000000</td>\n",
       "      <td>23.382840</td>\n",
       "      <td>0.000000</td>\n",
       "      <td>24.932070</td>\n",
       "      <td>121.473530</td>\n",
       "      <td>7.600000</td>\n",
       "    </tr>\n",
       "    <tr>\n",
       "      <th>25%</th>\n",
       "      <td>2012.917000</td>\n",
       "      <td>9.025000</td>\n",
       "      <td>289.324800</td>\n",
       "      <td>1.000000</td>\n",
       "      <td>24.963000</td>\n",
       "      <td>121.528085</td>\n",
       "      <td>27.700000</td>\n",
       "    </tr>\n",
       "    <tr>\n",
       "      <th>50%</th>\n",
       "      <td>2013.167000</td>\n",
       "      <td>16.100000</td>\n",
       "      <td>492.231300</td>\n",
       "      <td>4.000000</td>\n",
       "      <td>24.971100</td>\n",
       "      <td>121.538630</td>\n",
       "      <td>38.450000</td>\n",
       "    </tr>\n",
       "    <tr>\n",
       "      <th>75%</th>\n",
       "      <td>2013.417000</td>\n",
       "      <td>28.150000</td>\n",
       "      <td>1454.279000</td>\n",
       "      <td>6.000000</td>\n",
       "      <td>24.977455</td>\n",
       "      <td>121.543305</td>\n",
       "      <td>46.600000</td>\n",
       "    </tr>\n",
       "    <tr>\n",
       "      <th>max</th>\n",
       "      <td>2013.583000</td>\n",
       "      <td>43.800000</td>\n",
       "      <td>6488.021000</td>\n",
       "      <td>10.000000</td>\n",
       "      <td>25.014590</td>\n",
       "      <td>121.566270</td>\n",
       "      <td>117.500000</td>\n",
       "    </tr>\n",
       "  </tbody>\n",
       "</table>\n",
       "</div>"
      ],
      "text/plain": [
       "       transact_date   house_age  distance_nearest    n_stores         lat  \\\n",
       "count     414.000000  414.000000        414.000000  414.000000  414.000000   \n",
       "mean     2013.148971   17.712560       1083.885689    4.094203   24.969030   \n",
       "std         0.281967   11.392485       1262.109595    2.945562    0.012410   \n",
       "min      2012.667000    0.000000         23.382840    0.000000   24.932070   \n",
       "25%      2012.917000    9.025000        289.324800    1.000000   24.963000   \n",
       "50%      2013.167000   16.100000        492.231300    4.000000   24.971100   \n",
       "75%      2013.417000   28.150000       1454.279000    6.000000   24.977455   \n",
       "max      2013.583000   43.800000       6488.021000   10.000000   25.014590   \n",
       "\n",
       "              lon       price  \n",
       "count  414.000000  414.000000  \n",
       "mean   121.533361   37.980193  \n",
       "std      0.015347   13.606488  \n",
       "min    121.473530    7.600000  \n",
       "25%    121.528085   27.700000  \n",
       "50%    121.538630   38.450000  \n",
       "75%    121.543305   46.600000  \n",
       "max    121.566270  117.500000  "
      ]
     },
     "execution_count": 19,
     "metadata": {},
     "output_type": "execute_result"
    }
   ],
   "source": [
    "# Описательная статистика, проверка на некорректные данные\n",
    "df.describe()"
   ]
  },
  {
   "cell_type": "code",
   "execution_count": 20,
   "metadata": {},
   "outputs": [
    {
     "data": {
      "text/plain": [
       "<Axes: ylabel='Count'>"
      ]
     },
     "execution_count": 20,
     "metadata": {},
     "output_type": "execute_result"
    },
    {
     "data": {
      "image/png": "[encoded data removed]",
      "text/plain": [
       "<Figure size 640x480 with 1 Axes>"
      ]
     },
     "metadata": {},
     "output_type": "display_data"
    }
   ],
   "source": [
    "# Зависимая переменная\n",
    "target = df.price.to_numpy()\n",
    "df.drop(\"price\", axis=1, inplace=True)\n",
    "\n",
    "sns.histplot(target)"
   ]
  },
  {
   "cell_type": "code",
   "execution_count": 21,
   "metadata": {},
   "outputs": [],
   "source": [
    "# Перед применением стандартизуем данные\n",
    "from sklearn.preprocessing import StandardScaler\n",
    "std_scaler = StandardScaler()\n",
    "df_scaled = std_scaler.fit_transform(df)\n",
    "\n",
    "# Добавляем константну\n",
    "df_scaled = sm.add_constant(df_scaled)\n",
    "\n",
    "columns = np.append(\"intercept\", df.columns)"
   ]
  },
  {
   "cell_type": "markdown",
   "metadata": {},
   "source": [
    "Обучим линейную регрессию и GLM с гамма-распределением."
   ]
  },
  {
   "cell_type": "markdown",
   "metadata": {},
   "source": [
    "### 1. Линейная регрессия"
   ]
  },
  {
   "cell_type": "code",
   "execution_count": 22,
   "metadata": {},
   "outputs": [],
   "source": [
    "np.random.seed(seed_sgd)\n",
    "lm = sgd.SGD(family=family.Gaussian(), lr=0.1, batch_size=16)\n",
    "lm_pred = lm.fit(df_scaled, target).predict(df_scaled)"
   ]
  },
  {
   "cell_type": "code",
   "execution_count": 23,
   "metadata": {},
   "outputs": [
    {
     "data": {
      "image/png": "[encoded data removed]",
      "text/plain": [
       "<Figure size 640x480 with 1 Axes>"
      ]
     },
     "metadata": {},
     "output_type": "display_data"
    }
   ],
   "source": [
    "plt.plot(lm.loss_history)\n",
    "plt.xlabel(\"epoch\"), plt.ylabel(\"Loss\")\n",
    "plt.show()"
   ]
  },
  {
   "cell_type": "markdown",
   "metadata": {},
   "source": [
    "Сравним полученные результаты с SGDRegressor из библиотеки `sklearn`."
   ]
  },
  {
   "cell_type": "code",
   "execution_count": 24,
   "metadata": {},
   "outputs": [],
   "source": [
    "from sklearn.linear_model import SGDRegressor\n",
    "np.random.seed(seed_sgd)\n",
    "lm_sklearn = SGDRegressor(learning_rate=\"adaptive\", eta0=0.1, penalty=None, fit_intercept=False)\n",
    "lm_sklearn_pred = lm_sklearn.fit(df_scaled, target).predict(df_scaled)"
   ]
  },
  {
   "cell_type": "code",
   "execution_count": 25,
   "metadata": {},
   "outputs": [
    {
     "name": "stdout",
     "output_type": "stream",
     "text": [
      "                          SDG  SGDRegressor\n",
      "intercept           37.976997     37.985638\n",
      "transact_date        1.446827      1.461966\n",
      "house_age           -3.055246     -3.070485\n",
      "distance_nearest    -5.660887     -5.635479\n",
      "n_stores             3.373381      3.339555\n",
      "lat                  2.809412      2.805714\n",
      "lon                 -0.187202     -0.177384\n",
      "Adjusted R-squared   0.576197      0.576212\n"
     ]
    }
   ],
   "source": [
    "lm_comparison = pd.DataFrame(index=np.append(columns, \"Adjusted R-squared\"))\n",
    "lm_comparison[\"SDG\"] = np.append(lm.params, adj_r2(target, lm_pred, df.shape[1]))\n",
    "lm_comparison[\"SGDRegressor\"] = np.append(lm_sklearn.coef_, adj_r2(target, lm_sklearn_pred, df.shape[1]))\n",
    "\n",
    "print(lm_comparison)"
   ]
  },
  {
   "cell_type": "markdown",
   "metadata": {},
   "source": [
    "### 2. Гамма-регрессия"
   ]
  },
  {
   "cell_type": "code",
   "execution_count": 26,
   "metadata": {},
   "outputs": [],
   "source": [
    "np.random.seed(seed_sgd)\n",
    "glm = sgd.SGD(family=family.Gamma(), lr=0.01, batch_size=16)\n",
    "glm_pred = glm.fit(df_scaled, target).predict(df_scaled)"
   ]
  },
  {
   "cell_type": "code",
   "execution_count": 27,
   "metadata": {},
   "outputs": [
    {
     "data": {
      "image/png": "[encoded data removed]",
      "text/plain": [
       "<Figure size 640x480 with 1 Axes>"
      ]
     },
     "metadata": {},
     "output_type": "display_data"
    }
   ],
   "source": [
    "plt.plot(glm.loss_history)\n",
    "plt.xlabel(\"epoch\"), plt.ylabel(\"Loss\")\n",
    "plt.show()"
   ]
  },
  {
   "cell_type": "markdown",
   "metadata": {},
   "source": [
    "Сравним полученные результаты с GLM из библиотеки `statmodels`."
   ]
  },
  {
   "cell_type": "code",
   "execution_count": 28,
   "metadata": {},
   "outputs": [],
   "source": [
    "glm_sm = sm.GLM(target, df_scaled, family=sm.families.Gamma(sm.families.links.Log()))\n",
    "results = glm_sm.fit()"
   ]
  },
  {
   "cell_type": "code",
   "execution_count": 29,
   "metadata": {},
   "outputs": [
    {
     "name": "stdout",
     "output_type": "stream",
     "text": [
      "                                   SGD       GLM\n",
      "intercept                     3.591820  3.590622\n",
      "transact_date                 0.046941  0.045534\n",
      "house_age                    -0.073330 -0.073809\n",
      "distance_nearest             -0.199475 -0.198254\n",
      "n_stores                      0.074807  0.074781\n",
      "lat                           0.087781  0.088450\n",
      "lon                          -0.004894 -0.004029\n",
      "Dispersion (scale) parameter  0.048081  0.053814\n",
      "Pseudo R-squared              0.659948  0.659976\n"
     ]
    }
   ],
   "source": [
    "glm_comparison = pd.DataFrame(index=np.append(columns, [\"Dispersion (scale) parameter\", \"Pseudo R-squared\"]))\n",
    "glm_comparison[\"SGD\"] = np.append(glm.params, [glm.dispersion, pseudo_r2(target, glm_pred, family.Gamma())])\n",
    "glm_comparison[\"GLM\"] = np.append(results.params, [results.scale, pseudo_r2(target, results.predict(df_scaled), family.Gamma())])\n",
    "\n",
    "print(glm_comparison)"
   ]
  }
 ],
 "metadata": {
  "kernelspec": {
   "display_name": "base",
   "language": "python",
   "name": "python3"
  },
  "language_info": {
   "codemirror_mode": {
    "name": "ipython",
    "version": 3
   },
   "file_extension": ".py",
   "mimetype": "text/x-python",
   "name": "python",
   "nbconvert_exporter": "python",
   "pygments_lexer": "ipython3",
   "version": "3.12.7"
  }
 },
 "nbformat": 4,
 "nbformat_minor": 4
}
